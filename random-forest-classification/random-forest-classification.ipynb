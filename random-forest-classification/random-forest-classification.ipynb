{
 "cells": [
  {
   "cell_type": "code",
   "execution_count": null,
   "id": "6a1bf24c",
   "metadata": {},
   "outputs": [],
   "source": [
    "import pandas as pd\n",
    "from matplotlib import pyplot as plt\n",
    "%matplotlib inline\n",
    "import numpy as np"
   ]
  },
  {
   "cell_type": "code",
   "execution_count": null,
   "id": "7df1c6a7",
   "metadata": {
    "scrolled": true
   },
   "outputs": [],
   "source": [
    "df = pd.read_csv(\"bodyperformance.csv\")\n",
    "df.head()"
   ]
  },
  {
   "cell_type": "code",
   "execution_count": null,
   "id": "c26a7fa7",
   "metadata": {},
   "outputs": [],
   "source": [
    "df.isnull().sum()"
   ]
  },
  {
   "cell_type": "code",
   "execution_count": null,
   "id": "9e4e1bc5",
   "metadata": {},
   "outputs": [],
   "source": [
    "df.info()"
   ]
  },
  {
   "cell_type": "code",
   "execution_count": null,
   "id": "abb2498f",
   "metadata": {},
   "outputs": [],
   "source": [
    "df['class'].value_counts()"
   ]
  },
  {
   "cell_type": "code",
   "execution_count": null,
   "id": "387090ce",
   "metadata": {},
   "outputs": [],
   "source": [
    "from sklearn.preprocessing import LabelEncoder\n",
    "gender_encoder = LabelEncoder()\n",
    "class_encoder = LabelEncoder()"
   ]
  },
  {
   "cell_type": "code",
   "execution_count": null,
   "id": "d3bc855f",
   "metadata": {},
   "outputs": [],
   "source": [
    "df['gender'] = gender_encoder.fit_transform(df['gender'])\n",
    "df['class_x'] = class_encoder.fit_transform(df['class'])\n",
    "df.head()\n",
    "#numerik olmayan değerler için encoding işlemi"
   ]
  },
  {
   "cell_type": "code",
   "execution_count": null,
   "id": "cf25e5ae",
   "metadata": {},
   "outputs": [],
   "source": [
    "X = df.drop([\"class_x\",\"class\"],axis=1) \n",
    "y = df.class_x  #df.class yazımı \"invalid syntax\" hatası verdiği için class yerine class_x ifadesi kullanıldı"
   ]
  },
  {
   "cell_type": "code",
   "execution_count": null,
   "id": "867ec426",
   "metadata": {},
   "outputs": [],
   "source": [
    "X.head()  #girdiler"
   ]
  },
  {
   "cell_type": "code",
   "execution_count": null,
   "id": "4dfc84db",
   "metadata": {},
   "outputs": [],
   "source": [
    "y.head() #çıktı"
   ]
  },
  {
   "cell_type": "code",
   "execution_count": null,
   "id": "dab75419",
   "metadata": {},
   "outputs": [],
   "source": [
    "from sklearn.model_selection import train_test_split   "
   ]
  },
  {
   "cell_type": "code",
   "execution_count": null,
   "id": "8f518b3a",
   "metadata": {},
   "outputs": [],
   "source": [
    "X_train, X_test, y_train, y_test = train_test_split(X , y , train_size=0.8) #test ve eğitim verisi oluşturma"
   ]
  },
  {
   "cell_type": "code",
   "execution_count": null,
   "id": "050b7675",
   "metadata": {},
   "outputs": [],
   "source": [
    "X_train.head()"
   ]
  },
  {
   "cell_type": "code",
   "execution_count": null,
   "id": "2004bf40",
   "metadata": {},
   "outputs": [],
   "source": [
    "from sklearn.tree import DecisionTreeClassifier          #deneme amaçlı karar ağacı\n",
    "model = DecisionTreeClassifier()\n",
    "model.fit(X_train, y_train)\n",
    "print(\"Decision Tree Classifier Accuracy :\",model.score(X_test,y_test))\n"
   ]
  },
  {
   "cell_type": "code",
   "execution_count": null,
   "id": "7d878cc4",
   "metadata": {},
   "outputs": [],
   "source": [
    "from sklearn.model_selection import KFold\n",
    "kf = KFold(n_splits=5) # n_splits parametresi ile veri setini kaç farklı şekilde ayıracağımızı belirleriz.\n",
    "kf"
   ]
  },
  {
   "cell_type": "code",
   "execution_count": null,
   "id": "3aa4a64e",
   "metadata": {
    "scrolled": true
   },
   "outputs": [],
   "source": [
    "for train_index, test_index in kf.split([1,2,3,4,5,6,7,8,9]):\n",
    "    print(train_index, test_index)    #soldaki küme eğitim verisini içerir sağ taraf ise test verisini içerir"
   ]
  },
  {
   "cell_type": "code",
   "execution_count": null,
   "id": "c0451ccf",
   "metadata": {},
   "outputs": [],
   "source": [
    "from sklearn.ensemble import RandomForestClassifier   # sınıflandırma için kütüphane ekleme\n",
    "model_x = RandomForestClassifier(n_estimators=120,\n",
    "                                 max_depth=12,        # Örnek değerler, deneme yanılma ile ayarlanmalı\n",
    "                                      \n",
    ")\n",
    "model_x.fit(X_train, y_train)           #model eğitildi"
   ]
  },
  {
   "cell_type": "code",
   "execution_count": null,
   "id": "5ae246e4",
   "metadata": {},
   "outputs": [],
   "source": [
    "model_x.score(X_test,y_test)"
   ]
  },
  {
   "cell_type": "code",
   "execution_count": null,
   "id": "f6b9f7ac",
   "metadata": {},
   "outputs": [],
   "source": [
    "feature_importances = model.feature_importances_\n",
    "results_and_values = list(zip([\"feature_importances\", \"mean_distance\"\t,\"std_distance\",\t\"intersection_area\",\t\"union_area\",\t\"iou\"]))\n",
    "\n",
    "for result, value in results_and_values:\n",
    "    print(f\"{value}: {result:.5f}\")           #özelliklerin ağırlıkları"
   ]
  },
  {
   "cell_type": "code",
   "execution_count": null,
   "id": "4c6d94d2",
   "metadata": {},
   "outputs": [],
   "source": [
    "from sklearn.model_selection import cross_val_score"
   ]
  },
  {
   "cell_type": "code",
   "execution_count": null,
   "id": "17b00760",
   "metadata": {},
   "outputs": [],
   "source": [
    "cross_val_score(RandomForestClassifier(n_estimators=40,max_depth=12,),X,y,cv=kf)"
   ]
  },
  {
   "cell_type": "code",
   "execution_count": null,
   "id": "f3204ac3",
   "metadata": {},
   "outputs": [],
   "source": [
    "scores1 = cross_val_score(RandomForestClassifier(n_estimators=50),X,y,cv=3)\n",
    "np.average(scores1)"
   ]
  },
  {
   "cell_type": "code",
   "execution_count": null,
   "id": "4dfc53ec",
   "metadata": {},
   "outputs": [],
   "source": [
    "scores2 = cross_val_score(RandomForestClassifier(n_estimators=60),X,y,cv=4)\n",
    "np.average(scores2)"
   ]
  },
  {
   "cell_type": "code",
   "execution_count": null,
   "id": "d7d4293d",
   "metadata": {},
   "outputs": [],
   "source": [
    "scores3 = cross_val_score(RandomForestClassifier(n_estimators=100),X,y,cv=5)\n",
    "np.average(scores3)"
   ]
  },
  {
   "cell_type": "code",
   "execution_count": null,
   "id": "2f20f551",
   "metadata": {},
   "outputs": [],
   "source": [
    "y_predicted = model_x.predict(X_test)"
   ]
  },
  {
   "cell_type": "code",
   "execution_count": null,
   "id": "ed6682f7",
   "metadata": {},
   "outputs": [],
   "source": [
    "from sklearn.metrics import confusion_matrix"
   ]
  },
  {
   "cell_type": "code",
   "execution_count": null,
   "id": "84877247",
   "metadata": {},
   "outputs": [],
   "source": [
    "cm =confusion_matrix(y_test, y_predicted)\n",
    "cm"
   ]
  },
  {
   "cell_type": "code",
   "execution_count": null,
   "id": "e4eed139",
   "metadata": {},
   "outputs": [],
   "source": [
    "import seaborn as sn\n",
    "import matplotlib.pyplot as plt"
   ]
  },
  {
   "cell_type": "code",
   "execution_count": null,
   "id": "3cce5782",
   "metadata": {},
   "outputs": [],
   "source": [
    "plt.figure(figsize=(10,6))\n",
    "sn.heatmap(cm,annot=True,fmt=\"d\")\n",
    "plt.xlabel('tahmin')\n",
    "plt.ylabel('gerçek değer')"
   ]
  },
  {
   "cell_type": "code",
   "execution_count": null,
   "id": "f7b1a0ff",
   "metadata": {},
   "outputs": [],
   "source": [
    "from sklearn.metrics import classification_report\n",
    "print(classification_report(y_test, y_predicted))\n",
    "#precision bir sınıfa ait olarak tahmin edilen örnekler arasında gerçekten o sınıfa ait olanların oranını ifade eder\n",
    "#recall gerçekten o sınıfa ait olan örneklerin ne kadarının doğru bir şekilde tahmin edildiğini ifade eder.\n",
    "#f1-score harmonik ortalama"
   ]
  },
  {
   "cell_type": "code",
   "execution_count": null,
   "id": "3f279650",
   "metadata": {},
   "outputs": [],
   "source": [
    "from sklearn.metrics import precision_recall_curve\n",
    "from sklearn.metrics import average_precision_score\n",
    "from sklearn.preprocessing import label_binarize\n",
    "from itertools import cycle\n",
    "\n",
    "y_scores_proba = model_x.predict_proba(X_test) # Tahmin olasılıklarını alın\n",
    "\n",
    "# Etiketleri binarize et\n",
    "num_classes = len(np.unique(y_test)) \n",
    "classes = list(range(num_classes))\n",
    "y_test_bin = label_binarize(y_test, classes=classes)\n",
    "\n",
    "# Precision-recall eğrilerini hesapla\n",
    "precision = dict()\n",
    "recall = dict()\n",
    "average_precision = dict()\n",
    "for i in range(num_classes):\n",
    "    precision[i], recall[i], _ = precision_recall_curve(y_test_bin[:, i], y_scores_proba[:, i])\n",
    "    average_precision[i] = average_precision_score(y_test_bin[:, i], y_scores_proba[:, i])\n",
    "\n",
    "# Her sınıfın precision-recall eğrisini çiz\n",
    "colors = cycle(['navy', 'turquoise', 'darkorange', 'cornflowerblue', 'teal'])\n",
    "for i, color in zip(range(num_classes), colors):\n",
    "    plt.plot(recall[i], precision[i], color=color, lw=2, label='Precision-recall curve of class {0} (area = {1:0.2f})'\n",
    "             ''.format(i, average_precision[i]))\n",
    "\n",
    "plt.xlabel('Duyarlılık (Recall)')\n",
    "plt.ylabel('Hassasiyet (Precision)')\n",
    "plt.title('Çok Sınıflı Precision-Recall Eğrisi')\n",
    "plt.legend(loc=\"best\", title='Sınıf')"
   ]
  }
 ],
 "metadata": {
  "kernelspec": {
   "display_name": "Python 3 (ipykernel)",
   "language": "python",
   "name": "python3"
  },
  "language_info": {
   "codemirror_mode": {
    "name": "ipython",
    "version": 3
   },
   "file_extension": ".py",
   "mimetype": "text/x-python",
   "name": "python",
   "nbconvert_exporter": "python",
   "pygments_lexer": "ipython3",
   "version": "3.12.4"
  }
 },
 "nbformat": 4,
 "nbformat_minor": 5
}
