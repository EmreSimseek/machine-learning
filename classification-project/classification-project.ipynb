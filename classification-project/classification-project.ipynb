{
 "cells": [
  {
   "cell_type": "code",
   "execution_count": 1,
   "id": "6a1bf24c",
   "metadata": {},
   "outputs": [],
   "source": [
    "import pandas as pd\n",
    "from matplotlib import pyplot as plt\n",
    "%matplotlib inline\n",
    "import numpy as np\n",
    "#gerekli kütüphaneler"
   ]
  },
  {
   "cell_type": "code",
   "execution_count": 2,
   "id": "7df1c6a7",
   "metadata": {},
   "outputs": [
    {
     "data": {
      "text/html": [
       "<div>\n",
       "<style scoped>\n",
       "    .dataframe tbody tr th:only-of-type {\n",
       "        vertical-align: middle;\n",
       "    }\n",
       "\n",
       "    .dataframe tbody tr th {\n",
       "        vertical-align: top;\n",
       "    }\n",
       "\n",
       "    .dataframe thead th {\n",
       "        text-align: right;\n",
       "    }\n",
       "</style>\n",
       "<table border=\"1\" class=\"dataframe\">\n",
       "  <thead>\n",
       "    <tr style=\"text-align: right;\">\n",
       "      <th></th>\n",
       "      <th>age</th>\n",
       "      <th>gender</th>\n",
       "      <th>height_cm</th>\n",
       "      <th>weight_kg</th>\n",
       "      <th>body fat_%</th>\n",
       "      <th>diastolic</th>\n",
       "      <th>systolic</th>\n",
       "      <th>gripForce</th>\n",
       "      <th>sit and bend forward_cm</th>\n",
       "      <th>sit-ups counts</th>\n",
       "      <th>broad jump_cm</th>\n",
       "      <th>class</th>\n",
       "    </tr>\n",
       "  </thead>\n",
       "  <tbody>\n",
       "    <tr>\n",
       "      <th>0</th>\n",
       "      <td>27.0</td>\n",
       "      <td>M</td>\n",
       "      <td>172.3</td>\n",
       "      <td>75.24</td>\n",
       "      <td>21.3</td>\n",
       "      <td>80.0</td>\n",
       "      <td>130.0</td>\n",
       "      <td>54.9</td>\n",
       "      <td>18.4</td>\n",
       "      <td>60.0</td>\n",
       "      <td>217.0</td>\n",
       "      <td>C</td>\n",
       "    </tr>\n",
       "    <tr>\n",
       "      <th>1</th>\n",
       "      <td>25.0</td>\n",
       "      <td>M</td>\n",
       "      <td>165.0</td>\n",
       "      <td>55.80</td>\n",
       "      <td>15.7</td>\n",
       "      <td>77.0</td>\n",
       "      <td>126.0</td>\n",
       "      <td>36.4</td>\n",
       "      <td>16.3</td>\n",
       "      <td>53.0</td>\n",
       "      <td>229.0</td>\n",
       "      <td>A</td>\n",
       "    </tr>\n",
       "    <tr>\n",
       "      <th>2</th>\n",
       "      <td>31.0</td>\n",
       "      <td>M</td>\n",
       "      <td>179.6</td>\n",
       "      <td>78.00</td>\n",
       "      <td>20.1</td>\n",
       "      <td>92.0</td>\n",
       "      <td>152.0</td>\n",
       "      <td>44.8</td>\n",
       "      <td>12.0</td>\n",
       "      <td>49.0</td>\n",
       "      <td>181.0</td>\n",
       "      <td>C</td>\n",
       "    </tr>\n",
       "    <tr>\n",
       "      <th>3</th>\n",
       "      <td>32.0</td>\n",
       "      <td>M</td>\n",
       "      <td>174.5</td>\n",
       "      <td>71.10</td>\n",
       "      <td>18.4</td>\n",
       "      <td>76.0</td>\n",
       "      <td>147.0</td>\n",
       "      <td>41.4</td>\n",
       "      <td>15.2</td>\n",
       "      <td>53.0</td>\n",
       "      <td>219.0</td>\n",
       "      <td>B</td>\n",
       "    </tr>\n",
       "    <tr>\n",
       "      <th>4</th>\n",
       "      <td>28.0</td>\n",
       "      <td>M</td>\n",
       "      <td>173.8</td>\n",
       "      <td>67.70</td>\n",
       "      <td>17.1</td>\n",
       "      <td>70.0</td>\n",
       "      <td>127.0</td>\n",
       "      <td>43.5</td>\n",
       "      <td>27.1</td>\n",
       "      <td>45.0</td>\n",
       "      <td>217.0</td>\n",
       "      <td>B</td>\n",
       "    </tr>\n",
       "    <tr>\n",
       "      <th>...</th>\n",
       "      <td>...</td>\n",
       "      <td>...</td>\n",
       "      <td>...</td>\n",
       "      <td>...</td>\n",
       "      <td>...</td>\n",
       "      <td>...</td>\n",
       "      <td>...</td>\n",
       "      <td>...</td>\n",
       "      <td>...</td>\n",
       "      <td>...</td>\n",
       "      <td>...</td>\n",
       "      <td>...</td>\n",
       "    </tr>\n",
       "    <tr>\n",
       "      <th>13388</th>\n",
       "      <td>25.0</td>\n",
       "      <td>M</td>\n",
       "      <td>172.1</td>\n",
       "      <td>71.80</td>\n",
       "      <td>16.2</td>\n",
       "      <td>74.0</td>\n",
       "      <td>141.0</td>\n",
       "      <td>35.8</td>\n",
       "      <td>17.4</td>\n",
       "      <td>47.0</td>\n",
       "      <td>198.0</td>\n",
       "      <td>C</td>\n",
       "    </tr>\n",
       "    <tr>\n",
       "      <th>13389</th>\n",
       "      <td>21.0</td>\n",
       "      <td>M</td>\n",
       "      <td>179.7</td>\n",
       "      <td>63.90</td>\n",
       "      <td>12.1</td>\n",
       "      <td>74.0</td>\n",
       "      <td>128.0</td>\n",
       "      <td>33.0</td>\n",
       "      <td>1.1</td>\n",
       "      <td>48.0</td>\n",
       "      <td>167.0</td>\n",
       "      <td>D</td>\n",
       "    </tr>\n",
       "    <tr>\n",
       "      <th>13390</th>\n",
       "      <td>39.0</td>\n",
       "      <td>M</td>\n",
       "      <td>177.2</td>\n",
       "      <td>80.50</td>\n",
       "      <td>20.1</td>\n",
       "      <td>78.0</td>\n",
       "      <td>132.0</td>\n",
       "      <td>63.5</td>\n",
       "      <td>16.4</td>\n",
       "      <td>45.0</td>\n",
       "      <td>229.0</td>\n",
       "      <td>A</td>\n",
       "    </tr>\n",
       "    <tr>\n",
       "      <th>13391</th>\n",
       "      <td>64.0</td>\n",
       "      <td>F</td>\n",
       "      <td>146.1</td>\n",
       "      <td>57.70</td>\n",
       "      <td>40.4</td>\n",
       "      <td>68.0</td>\n",
       "      <td>121.0</td>\n",
       "      <td>19.3</td>\n",
       "      <td>9.2</td>\n",
       "      <td>0.0</td>\n",
       "      <td>75.0</td>\n",
       "      <td>D</td>\n",
       "    </tr>\n",
       "    <tr>\n",
       "      <th>13392</th>\n",
       "      <td>34.0</td>\n",
       "      <td>M</td>\n",
       "      <td>164.0</td>\n",
       "      <td>66.10</td>\n",
       "      <td>19.5</td>\n",
       "      <td>82.0</td>\n",
       "      <td>150.0</td>\n",
       "      <td>35.9</td>\n",
       "      <td>7.1</td>\n",
       "      <td>51.0</td>\n",
       "      <td>180.0</td>\n",
       "      <td>C</td>\n",
       "    </tr>\n",
       "  </tbody>\n",
       "</table>\n",
       "<p>13393 rows × 12 columns</p>\n",
       "</div>"
      ],
      "text/plain": [
       "        age gender  height_cm  weight_kg  body fat_%  diastolic  systolic  \\\n",
       "0      27.0      M      172.3      75.24        21.3       80.0     130.0   \n",
       "1      25.0      M      165.0      55.80        15.7       77.0     126.0   \n",
       "2      31.0      M      179.6      78.00        20.1       92.0     152.0   \n",
       "3      32.0      M      174.5      71.10        18.4       76.0     147.0   \n",
       "4      28.0      M      173.8      67.70        17.1       70.0     127.0   \n",
       "...     ...    ...        ...        ...         ...        ...       ...   \n",
       "13388  25.0      M      172.1      71.80        16.2       74.0     141.0   \n",
       "13389  21.0      M      179.7      63.90        12.1       74.0     128.0   \n",
       "13390  39.0      M      177.2      80.50        20.1       78.0     132.0   \n",
       "13391  64.0      F      146.1      57.70        40.4       68.0     121.0   \n",
       "13392  34.0      M      164.0      66.10        19.5       82.0     150.0   \n",
       "\n",
       "       gripForce  sit and bend forward_cm  sit-ups counts  broad jump_cm class  \n",
       "0           54.9                     18.4            60.0          217.0     C  \n",
       "1           36.4                     16.3            53.0          229.0     A  \n",
       "2           44.8                     12.0            49.0          181.0     C  \n",
       "3           41.4                     15.2            53.0          219.0     B  \n",
       "4           43.5                     27.1            45.0          217.0     B  \n",
       "...          ...                      ...             ...            ...   ...  \n",
       "13388       35.8                     17.4            47.0          198.0     C  \n",
       "13389       33.0                      1.1            48.0          167.0     D  \n",
       "13390       63.5                     16.4            45.0          229.0     A  \n",
       "13391       19.3                      9.2             0.0           75.0     D  \n",
       "13392       35.9                      7.1            51.0          180.0     C  \n",
       "\n",
       "[13393 rows x 12 columns]"
      ]
     },
     "execution_count": 2,
     "metadata": {},
     "output_type": "execute_result"
    }
   ],
   "source": [
    "#CSV dosyasını okuyarak bir DataFrame oluşturuluyor.\n",
    "df = pd.read_csv(\"bodyPerformance.csv\")  \n",
    "df.head()"
   ]
  },
  {
   "cell_type": "code",
   "execution_count": 3,
   "id": "c26a7fa7",
   "metadata": {},
   "outputs": [
    {
     "data": {
      "text/plain": [
       "age                        0\n",
       "gender                     0\n",
       "height_cm                  0\n",
       "weight_kg                  0\n",
       "body fat_%                 0\n",
       "diastolic                  0\n",
       "systolic                   0\n",
       "gripForce                  0\n",
       "sit and bend forward_cm    0\n",
       "sit-ups counts             0\n",
       "broad jump_cm              0\n",
       "class                      0\n",
       "dtype: int64"
      ]
     },
     "execution_count": 3,
     "metadata": {},
     "output_type": "execute_result"
    }
   ],
   "source": [
    "df.isnull().sum() #Eksik değer kontrolü"
   ]
  },
  {
   "cell_type": "code",
   "execution_count": 4,
   "id": "9e4e1bc5",
   "metadata": {},
   "outputs": [
    {
     "name": "stdout",
     "output_type": "stream",
     "text": [
      "<class 'pandas.core.frame.DataFrame'>\n",
      "RangeIndex: 13393 entries, 0 to 13392\n",
      "Data columns (total 12 columns):\n",
      " #   Column                   Non-Null Count  Dtype  \n",
      "---  ------                   --------------  -----  \n",
      " 0   age                      13393 non-null  float64\n",
      " 1   gender                   13393 non-null  object \n",
      " 2   height_cm                13393 non-null  float64\n",
      " 3   weight_kg                13393 non-null  float64\n",
      " 4   body fat_%               13393 non-null  float64\n",
      " 5   diastolic                13393 non-null  float64\n",
      " 6   systolic                 13393 non-null  float64\n",
      " 7   gripForce                13393 non-null  float64\n",
      " 8   sit and bend forward_cm  13393 non-null  float64\n",
      " 9   sit-ups counts           13393 non-null  float64\n",
      " 10  broad jump_cm            13393 non-null  float64\n",
      " 11  class                    13393 non-null  object \n",
      "dtypes: float64(10), object(2)\n",
      "memory usage: 1.2+ MB\n"
     ]
    }
   ],
   "source": [
    "df.info()  #DataFrame bilgileri"
   ]
  },
  {
   "cell_type": "code",
   "execution_count": 5,
   "id": "387090ce",
   "metadata": {},
   "outputs": [],
   "source": [
    "from sklearn.preprocessing import LabelEncoder\n",
    "gender_encoder = LabelEncoder()\n",
    "class_encoder = LabelEncoder() \n",
    "#LabelEncoder nesnesi oluşturuluyor.\n",
    "#numerik olmayan değerler için encoding yapılacak"
   ]
  },
  {
   "cell_type": "code",
   "execution_count": 6,
   "id": "d3bc855f",
   "metadata": {},
   "outputs": [
    {
     "data": {
      "text/html": [
       "<div>\n",
       "<style scoped>\n",
       "    .dataframe tbody tr th:only-of-type {\n",
       "        vertical-align: middle;\n",
       "    }\n",
       "\n",
       "    .dataframe tbody tr th {\n",
       "        vertical-align: top;\n",
       "    }\n",
       "\n",
       "    .dataframe thead th {\n",
       "        text-align: right;\n",
       "    }\n",
       "</style>\n",
       "<table border=\"1\" class=\"dataframe\">\n",
       "  <thead>\n",
       "    <tr style=\"text-align: right;\">\n",
       "      <th></th>\n",
       "      <th>age</th>\n",
       "      <th>gender</th>\n",
       "      <th>height_cm</th>\n",
       "      <th>weight_kg</th>\n",
       "      <th>body fat_%</th>\n",
       "      <th>diastolic</th>\n",
       "      <th>systolic</th>\n",
       "      <th>gripForce</th>\n",
       "      <th>sit and bend forward_cm</th>\n",
       "      <th>sit-ups counts</th>\n",
       "      <th>broad jump_cm</th>\n",
       "      <th>class</th>\n",
       "      <th>class_x</th>\n",
       "    </tr>\n",
       "  </thead>\n",
       "  <tbody>\n",
       "    <tr>\n",
       "      <th>0</th>\n",
       "      <td>27.0</td>\n",
       "      <td>1</td>\n",
       "      <td>172.3</td>\n",
       "      <td>75.24</td>\n",
       "      <td>21.3</td>\n",
       "      <td>80.0</td>\n",
       "      <td>130.0</td>\n",
       "      <td>54.9</td>\n",
       "      <td>18.4</td>\n",
       "      <td>60.0</td>\n",
       "      <td>217.0</td>\n",
       "      <td>C</td>\n",
       "      <td>1</td>\n",
       "    </tr>\n",
       "    <tr>\n",
       "      <th>1</th>\n",
       "      <td>25.0</td>\n",
       "      <td>1</td>\n",
       "      <td>165.0</td>\n",
       "      <td>55.80</td>\n",
       "      <td>15.7</td>\n",
       "      <td>77.0</td>\n",
       "      <td>126.0</td>\n",
       "      <td>36.4</td>\n",
       "      <td>16.3</td>\n",
       "      <td>53.0</td>\n",
       "      <td>229.0</td>\n",
       "      <td>A</td>\n",
       "      <td>0</td>\n",
       "    </tr>\n",
       "    <tr>\n",
       "      <th>2</th>\n",
       "      <td>31.0</td>\n",
       "      <td>1</td>\n",
       "      <td>179.6</td>\n",
       "      <td>78.00</td>\n",
       "      <td>20.1</td>\n",
       "      <td>92.0</td>\n",
       "      <td>152.0</td>\n",
       "      <td>44.8</td>\n",
       "      <td>12.0</td>\n",
       "      <td>49.0</td>\n",
       "      <td>181.0</td>\n",
       "      <td>C</td>\n",
       "      <td>1</td>\n",
       "    </tr>\n",
       "    <tr>\n",
       "      <th>3</th>\n",
       "      <td>32.0</td>\n",
       "      <td>1</td>\n",
       "      <td>174.5</td>\n",
       "      <td>71.10</td>\n",
       "      <td>18.4</td>\n",
       "      <td>76.0</td>\n",
       "      <td>147.0</td>\n",
       "      <td>41.4</td>\n",
       "      <td>15.2</td>\n",
       "      <td>53.0</td>\n",
       "      <td>219.0</td>\n",
       "      <td>B</td>\n",
       "      <td>1</td>\n",
       "    </tr>\n",
       "    <tr>\n",
       "      <th>4</th>\n",
       "      <td>28.0</td>\n",
       "      <td>1</td>\n",
       "      <td>173.8</td>\n",
       "      <td>67.70</td>\n",
       "      <td>17.1</td>\n",
       "      <td>70.0</td>\n",
       "      <td>127.0</td>\n",
       "      <td>43.5</td>\n",
       "      <td>27.1</td>\n",
       "      <td>45.0</td>\n",
       "      <td>217.0</td>\n",
       "      <td>B</td>\n",
       "      <td>1</td>\n",
       "    </tr>\n",
       "    <tr>\n",
       "      <th>...</th>\n",
       "      <td>...</td>\n",
       "      <td>...</td>\n",
       "      <td>...</td>\n",
       "      <td>...</td>\n",
       "      <td>...</td>\n",
       "      <td>...</td>\n",
       "      <td>...</td>\n",
       "      <td>...</td>\n",
       "      <td>...</td>\n",
       "      <td>...</td>\n",
       "      <td>...</td>\n",
       "      <td>...</td>\n",
       "      <td>...</td>\n",
       "    </tr>\n",
       "    <tr>\n",
       "      <th>13388</th>\n",
       "      <td>25.0</td>\n",
       "      <td>1</td>\n",
       "      <td>172.1</td>\n",
       "      <td>71.80</td>\n",
       "      <td>16.2</td>\n",
       "      <td>74.0</td>\n",
       "      <td>141.0</td>\n",
       "      <td>35.8</td>\n",
       "      <td>17.4</td>\n",
       "      <td>47.0</td>\n",
       "      <td>198.0</td>\n",
       "      <td>C</td>\n",
       "      <td>1</td>\n",
       "    </tr>\n",
       "    <tr>\n",
       "      <th>13389</th>\n",
       "      <td>21.0</td>\n",
       "      <td>1</td>\n",
       "      <td>179.7</td>\n",
       "      <td>63.90</td>\n",
       "      <td>12.1</td>\n",
       "      <td>74.0</td>\n",
       "      <td>128.0</td>\n",
       "      <td>33.0</td>\n",
       "      <td>1.1</td>\n",
       "      <td>48.0</td>\n",
       "      <td>167.0</td>\n",
       "      <td>D</td>\n",
       "      <td>2</td>\n",
       "    </tr>\n",
       "    <tr>\n",
       "      <th>13390</th>\n",
       "      <td>39.0</td>\n",
       "      <td>1</td>\n",
       "      <td>177.2</td>\n",
       "      <td>80.50</td>\n",
       "      <td>20.1</td>\n",
       "      <td>78.0</td>\n",
       "      <td>132.0</td>\n",
       "      <td>63.5</td>\n",
       "      <td>16.4</td>\n",
       "      <td>45.0</td>\n",
       "      <td>229.0</td>\n",
       "      <td>A</td>\n",
       "      <td>0</td>\n",
       "    </tr>\n",
       "    <tr>\n",
       "      <th>13391</th>\n",
       "      <td>64.0</td>\n",
       "      <td>0</td>\n",
       "      <td>146.1</td>\n",
       "      <td>57.70</td>\n",
       "      <td>40.4</td>\n",
       "      <td>68.0</td>\n",
       "      <td>121.0</td>\n",
       "      <td>19.3</td>\n",
       "      <td>9.2</td>\n",
       "      <td>0.0</td>\n",
       "      <td>75.0</td>\n",
       "      <td>D</td>\n",
       "      <td>2</td>\n",
       "    </tr>\n",
       "    <tr>\n",
       "      <th>13392</th>\n",
       "      <td>34.0</td>\n",
       "      <td>1</td>\n",
       "      <td>164.0</td>\n",
       "      <td>66.10</td>\n",
       "      <td>19.5</td>\n",
       "      <td>82.0</td>\n",
       "      <td>150.0</td>\n",
       "      <td>35.9</td>\n",
       "      <td>7.1</td>\n",
       "      <td>51.0</td>\n",
       "      <td>180.0</td>\n",
       "      <td>C</td>\n",
       "      <td>1</td>\n",
       "    </tr>\n",
       "  </tbody>\n",
       "</table>\n",
       "<p>13393 rows × 13 columns</p>\n",
       "</div>"
      ],
      "text/plain": [
       "        age  gender  height_cm  weight_kg  body fat_%  diastolic  systolic  \\\n",
       "0      27.0       1      172.3      75.24        21.3       80.0     130.0   \n",
       "1      25.0       1      165.0      55.80        15.7       77.0     126.0   \n",
       "2      31.0       1      179.6      78.00        20.1       92.0     152.0   \n",
       "3      32.0       1      174.5      71.10        18.4       76.0     147.0   \n",
       "4      28.0       1      173.8      67.70        17.1       70.0     127.0   \n",
       "...     ...     ...        ...        ...         ...        ...       ...   \n",
       "13388  25.0       1      172.1      71.80        16.2       74.0     141.0   \n",
       "13389  21.0       1      179.7      63.90        12.1       74.0     128.0   \n",
       "13390  39.0       1      177.2      80.50        20.1       78.0     132.0   \n",
       "13391  64.0       0      146.1      57.70        40.4       68.0     121.0   \n",
       "13392  34.0       1      164.0      66.10        19.5       82.0     150.0   \n",
       "\n",
       "       gripForce  sit and bend forward_cm  sit-ups counts  broad jump_cm  \\\n",
       "0           54.9                     18.4            60.0          217.0   \n",
       "1           36.4                     16.3            53.0          229.0   \n",
       "2           44.8                     12.0            49.0          181.0   \n",
       "3           41.4                     15.2            53.0          219.0   \n",
       "4           43.5                     27.1            45.0          217.0   \n",
       "...          ...                      ...             ...            ...   \n",
       "13388       35.8                     17.4            47.0          198.0   \n",
       "13389       33.0                      1.1            48.0          167.0   \n",
       "13390       63.5                     16.4            45.0          229.0   \n",
       "13391       19.3                      9.2             0.0           75.0   \n",
       "13392       35.9                      7.1            51.0          180.0   \n",
       "\n",
       "      class  class_x  \n",
       "0         C        1  \n",
       "1         A        0  \n",
       "2         C        1  \n",
       "3         B        1  \n",
       "4         B        1  \n",
       "...     ...      ...  \n",
       "13388     C        1  \n",
       "13389     D        2  \n",
       "13390     A        0  \n",
       "13391     D        2  \n",
       "13392     C        1  \n",
       "\n",
       "[13393 rows x 13 columns]"
      ]
     },
     "execution_count": 6,
     "metadata": {},
     "output_type": "execute_result"
    }
   ],
   "source": [
    "df['gender'] = gender_encoder.fit_transform(df['gender']) # Female için 0 Male için 1 değeri \n",
    "\n",
    "# Burada sınıf birleştirme işlemi yapılmıştır daha iyi performans için B ve C sınıfı orta kategori olarak düşünülerek birleştirilmiştir\n",
    "df['class_x'] = [0 if each == 'A' else 1 if each in ['B', 'C'] else 2 for each in df['class']]\n",
    "# İşlem sonunda 4 farklı kategori 3 kategoriye indirgenmiştir bu işlem modelin performansını belirli ölçüde artırmıştır\n",
    "df "
   ]
  },
  {
   "cell_type": "code",
   "execution_count": 7,
   "id": "cf25e5ae",
   "metadata": {},
   "outputs": [],
   "source": [
    "X = df.drop([\"class_x\",\"class\"],axis=1) \n",
    "y = df.class_x  #df.class yazımı \"invalid syntax\" hatası verdiği için class yerine class_x ifadesi kullanıldı\n"
   ]
  },
  {
   "cell_type": "code",
   "execution_count": 8,
   "id": "867ec426",
   "metadata": {},
   "outputs": [
    {
     "data": {
      "text/html": [
       "<div>\n",
       "<style scoped>\n",
       "    .dataframe tbody tr th:only-of-type {\n",
       "        vertical-align: middle;\n",
       "    }\n",
       "\n",
       "    .dataframe tbody tr th {\n",
       "        vertical-align: top;\n",
       "    }\n",
       "\n",
       "    .dataframe thead th {\n",
       "        text-align: right;\n",
       "    }\n",
       "</style>\n",
       "<table border=\"1\" class=\"dataframe\">\n",
       "  <thead>\n",
       "    <tr style=\"text-align: right;\">\n",
       "      <th></th>\n",
       "      <th>age</th>\n",
       "      <th>gender</th>\n",
       "      <th>height_cm</th>\n",
       "      <th>weight_kg</th>\n",
       "      <th>body fat_%</th>\n",
       "      <th>diastolic</th>\n",
       "      <th>systolic</th>\n",
       "      <th>gripForce</th>\n",
       "      <th>sit and bend forward_cm</th>\n",
       "      <th>sit-ups counts</th>\n",
       "      <th>broad jump_cm</th>\n",
       "    </tr>\n",
       "  </thead>\n",
       "  <tbody>\n",
       "    <tr>\n",
       "      <th>0</th>\n",
       "      <td>27.0</td>\n",
       "      <td>1</td>\n",
       "      <td>172.3</td>\n",
       "      <td>75.24</td>\n",
       "      <td>21.3</td>\n",
       "      <td>80.0</td>\n",
       "      <td>130.0</td>\n",
       "      <td>54.9</td>\n",
       "      <td>18.4</td>\n",
       "      <td>60.0</td>\n",
       "      <td>217.0</td>\n",
       "    </tr>\n",
       "    <tr>\n",
       "      <th>1</th>\n",
       "      <td>25.0</td>\n",
       "      <td>1</td>\n",
       "      <td>165.0</td>\n",
       "      <td>55.80</td>\n",
       "      <td>15.7</td>\n",
       "      <td>77.0</td>\n",
       "      <td>126.0</td>\n",
       "      <td>36.4</td>\n",
       "      <td>16.3</td>\n",
       "      <td>53.0</td>\n",
       "      <td>229.0</td>\n",
       "    </tr>\n",
       "    <tr>\n",
       "      <th>2</th>\n",
       "      <td>31.0</td>\n",
       "      <td>1</td>\n",
       "      <td>179.6</td>\n",
       "      <td>78.00</td>\n",
       "      <td>20.1</td>\n",
       "      <td>92.0</td>\n",
       "      <td>152.0</td>\n",
       "      <td>44.8</td>\n",
       "      <td>12.0</td>\n",
       "      <td>49.0</td>\n",
       "      <td>181.0</td>\n",
       "    </tr>\n",
       "    <tr>\n",
       "      <th>3</th>\n",
       "      <td>32.0</td>\n",
       "      <td>1</td>\n",
       "      <td>174.5</td>\n",
       "      <td>71.10</td>\n",
       "      <td>18.4</td>\n",
       "      <td>76.0</td>\n",
       "      <td>147.0</td>\n",
       "      <td>41.4</td>\n",
       "      <td>15.2</td>\n",
       "      <td>53.0</td>\n",
       "      <td>219.0</td>\n",
       "    </tr>\n",
       "    <tr>\n",
       "      <th>4</th>\n",
       "      <td>28.0</td>\n",
       "      <td>1</td>\n",
       "      <td>173.8</td>\n",
       "      <td>67.70</td>\n",
       "      <td>17.1</td>\n",
       "      <td>70.0</td>\n",
       "      <td>127.0</td>\n",
       "      <td>43.5</td>\n",
       "      <td>27.1</td>\n",
       "      <td>45.0</td>\n",
       "      <td>217.0</td>\n",
       "    </tr>\n",
       "    <tr>\n",
       "      <th>...</th>\n",
       "      <td>...</td>\n",
       "      <td>...</td>\n",
       "      <td>...</td>\n",
       "      <td>...</td>\n",
       "      <td>...</td>\n",
       "      <td>...</td>\n",
       "      <td>...</td>\n",
       "      <td>...</td>\n",
       "      <td>...</td>\n",
       "      <td>...</td>\n",
       "      <td>...</td>\n",
       "    </tr>\n",
       "    <tr>\n",
       "      <th>13388</th>\n",
       "      <td>25.0</td>\n",
       "      <td>1</td>\n",
       "      <td>172.1</td>\n",
       "      <td>71.80</td>\n",
       "      <td>16.2</td>\n",
       "      <td>74.0</td>\n",
       "      <td>141.0</td>\n",
       "      <td>35.8</td>\n",
       "      <td>17.4</td>\n",
       "      <td>47.0</td>\n",
       "      <td>198.0</td>\n",
       "    </tr>\n",
       "    <tr>\n",
       "      <th>13389</th>\n",
       "      <td>21.0</td>\n",
       "      <td>1</td>\n",
       "      <td>179.7</td>\n",
       "      <td>63.90</td>\n",
       "      <td>12.1</td>\n",
       "      <td>74.0</td>\n",
       "      <td>128.0</td>\n",
       "      <td>33.0</td>\n",
       "      <td>1.1</td>\n",
       "      <td>48.0</td>\n",
       "      <td>167.0</td>\n",
       "    </tr>\n",
       "    <tr>\n",
       "      <th>13390</th>\n",
       "      <td>39.0</td>\n",
       "      <td>1</td>\n",
       "      <td>177.2</td>\n",
       "      <td>80.50</td>\n",
       "      <td>20.1</td>\n",
       "      <td>78.0</td>\n",
       "      <td>132.0</td>\n",
       "      <td>63.5</td>\n",
       "      <td>16.4</td>\n",
       "      <td>45.0</td>\n",
       "      <td>229.0</td>\n",
       "    </tr>\n",
       "    <tr>\n",
       "      <th>13391</th>\n",
       "      <td>64.0</td>\n",
       "      <td>0</td>\n",
       "      <td>146.1</td>\n",
       "      <td>57.70</td>\n",
       "      <td>40.4</td>\n",
       "      <td>68.0</td>\n",
       "      <td>121.0</td>\n",
       "      <td>19.3</td>\n",
       "      <td>9.2</td>\n",
       "      <td>0.0</td>\n",
       "      <td>75.0</td>\n",
       "    </tr>\n",
       "    <tr>\n",
       "      <th>13392</th>\n",
       "      <td>34.0</td>\n",
       "      <td>1</td>\n",
       "      <td>164.0</td>\n",
       "      <td>66.10</td>\n",
       "      <td>19.5</td>\n",
       "      <td>82.0</td>\n",
       "      <td>150.0</td>\n",
       "      <td>35.9</td>\n",
       "      <td>7.1</td>\n",
       "      <td>51.0</td>\n",
       "      <td>180.0</td>\n",
       "    </tr>\n",
       "  </tbody>\n",
       "</table>\n",
       "<p>13393 rows × 11 columns</p>\n",
       "</div>"
      ],
      "text/plain": [
       "        age  gender  height_cm  weight_kg  body fat_%  diastolic  systolic  \\\n",
       "0      27.0       1      172.3      75.24        21.3       80.0     130.0   \n",
       "1      25.0       1      165.0      55.80        15.7       77.0     126.0   \n",
       "2      31.0       1      179.6      78.00        20.1       92.0     152.0   \n",
       "3      32.0       1      174.5      71.10        18.4       76.0     147.0   \n",
       "4      28.0       1      173.8      67.70        17.1       70.0     127.0   \n",
       "...     ...     ...        ...        ...         ...        ...       ...   \n",
       "13388  25.0       1      172.1      71.80        16.2       74.0     141.0   \n",
       "13389  21.0       1      179.7      63.90        12.1       74.0     128.0   \n",
       "13390  39.0       1      177.2      80.50        20.1       78.0     132.0   \n",
       "13391  64.0       0      146.1      57.70        40.4       68.0     121.0   \n",
       "13392  34.0       1      164.0      66.10        19.5       82.0     150.0   \n",
       "\n",
       "       gripForce  sit and bend forward_cm  sit-ups counts  broad jump_cm  \n",
       "0           54.9                     18.4            60.0          217.0  \n",
       "1           36.4                     16.3            53.0          229.0  \n",
       "2           44.8                     12.0            49.0          181.0  \n",
       "3           41.4                     15.2            53.0          219.0  \n",
       "4           43.5                     27.1            45.0          217.0  \n",
       "...          ...                      ...             ...            ...  \n",
       "13388       35.8                     17.4            47.0          198.0  \n",
       "13389       33.0                      1.1            48.0          167.0  \n",
       "13390       63.5                     16.4            45.0          229.0  \n",
       "13391       19.3                      9.2             0.0           75.0  \n",
       "13392       35.9                      7.1            51.0          180.0  \n",
       "\n",
       "[13393 rows x 11 columns]"
      ]
     },
     "execution_count": 8,
     "metadata": {},
     "output_type": "execute_result"
    }
   ],
   "source": [
    "X  #girdiler"
   ]
  },
  {
   "cell_type": "code",
   "execution_count": 9,
   "id": "4dfc84db",
   "metadata": {},
   "outputs": [
    {
     "data": {
      "text/plain": [
       "0        1\n",
       "1        0\n",
       "2        1\n",
       "3        1\n",
       "4        1\n",
       "        ..\n",
       "13388    1\n",
       "13389    2\n",
       "13390    0\n",
       "13391    2\n",
       "13392    1\n",
       "Name: class_x, Length: 13393, dtype: int64"
      ]
     },
     "execution_count": 9,
     "metadata": {},
     "output_type": "execute_result"
    }
   ],
   "source": [
    "y #çıktılar"
   ]
  },
  {
   "cell_type": "code",
   "execution_count": 10,
   "id": "dab75419",
   "metadata": {},
   "outputs": [],
   "source": [
    "from sklearn.model_selection import train_test_split #test ve eğitim verisini ayırabilmek için gerekli kütüphane"
   ]
  },
  {
   "cell_type": "code",
   "execution_count": 11,
   "id": "8f518b3a",
   "metadata": {},
   "outputs": [],
   "source": [
    "X_train, X_test, y_train, y_test = train_test_split(X , y , train_size=0.8, random_state=42) #test ve eğitim verisi oluşturma\n",
    "#aynı sonuçları üretmek için random_state parametresi eklendi\n"
   ]
  },
  {
   "cell_type": "code",
   "execution_count": 12,
   "id": "7d878cc4",
   "metadata": {},
   "outputs": [
    {
     "data": {
      "text/plain": [
       "KFold(n_splits=5, random_state=None, shuffle=False)"
      ]
     },
     "execution_count": 12,
     "metadata": {},
     "output_type": "execute_result"
    }
   ],
   "source": [
    "from sklearn.model_selection import KFold\n",
    "kf = KFold(n_splits=5)  # veri setini kaç farklı şekilde ayıracağımızı belirledik\n",
    "kf"
   ]
  },
  {
   "cell_type": "code",
   "execution_count": 13,
   "id": "3aa4a64e",
   "metadata": {},
   "outputs": [
    {
     "name": "stdout",
     "output_type": "stream",
     "text": [
      "[2 3 4 5 6 7 8] [0 1]\n",
      "[0 1 4 5 6 7 8] [2 3]\n",
      "[0 1 2 3 6 7 8] [4 5]\n",
      "[0 1 2 3 4 5 8] [6 7]\n",
      "[0 1 2 3 4 5 6 7] [8]\n"
     ]
    }
   ],
   "source": [
    "for train_index, test_index in kf.split([1,2,3,4,5,6,7,8,9]):\n",
    "    print(train_index, test_index)    #soldaki küme eğitim verisini içerir sağ taraf ise test verisini içerir"
   ]
  },
  {
   "cell_type": "code",
   "execution_count": 14,
   "id": "4c6d94d2",
   "metadata": {},
   "outputs": [],
   "source": [
    "from sklearn.model_selection import cross_val_score"
   ]
  },
  {
   "cell_type": "code",
   "execution_count": 15,
   "id": "5caee682",
   "metadata": {
    "scrolled": true
   },
   "outputs": [
    {
     "name": "stdout",
     "output_type": "stream",
     "text": [
      "SVC Eğitim verisi doğruluk oranı: 0.740433078215419\n",
      "SVC KFold doğruluk oranı: 0.7385200523753889\n"
     ]
    }
   ],
   "source": [
    "from sklearn.svm import SVC\n",
    "\n",
    "# SVC modelini oluştur\n",
    "svc_model1 = SVC(C=1, kernel='poly', degree=3)  #hiper parametre deneme yanılma ile seçildi\n",
    "# SVC modelini eğitim verisi üzerinde eğit \n",
    "svc_model1.fit(X_train, y_train)         \n",
    "\n",
    "# 5 kat çapraz doğrulama (cross-validation) ile doğruluk oranlarını hesapla\n",
    "scores1 = cross_val_score(svc_model1, X, y, cv=5)\n",
    "\n",
    "\n",
    "print(\"SVC Eğitim verisi doğruluk oranı:\", svc_model1.score(X_train, y_train))\n",
    "print(\"SVC KFold doğruluk oranı:\", np.average(scores1))"
   ]
  },
  {
   "cell_type": "code",
   "execution_count": 16,
   "id": "c96c1349",
   "metadata": {},
   "outputs": [
    {
     "name": "stdout",
     "output_type": "stream",
     "text": [
      "SVC Eğitim verisi doğruluk oranı: 0.7501400037334329\n",
      "SVC KFold doğruluk oranı: 0.7483762040443457\n"
     ]
    }
   ],
   "source": [
    "svc_model2 = SVC(C=0.1, kernel='linear', degree=4)\n",
    "svc_model2.fit(X_train,y_train)\n",
    "\n",
    "scores2 = cross_val_score(svc_model2,X,y,cv=5)\n",
    "\n",
    "print(\"SVC Eğitim verisi doğruluk oranı:\",svc_model2.score(X_train,y_train))\n",
    "print(\"SVC KFold doğruluk oranı:\",np.average(scores2))"
   ]
  },
  {
   "cell_type": "code",
   "execution_count": 17,
   "id": "f44b1bfc",
   "metadata": {},
   "outputs": [
    {
     "name": "stdout",
     "output_type": "stream",
     "text": [
      "Ortalama Eğitim verisi doğruluk oranı: 0.745286540974426\n",
      "Ortalama KFold doğruluk oranı: 0.7434481282098673\n"
     ]
    }
   ],
   "source": [
    "average_train_accuracy = np.mean([svc_model1.score(X_train, y_train), svc_model2.score(X_train, y_train)])\n",
    "print(\"Ortalama Eğitim verisi doğruluk oranı:\", average_train_accuracy)\n",
    "\n",
    "average_test_accuracy = np.mean([np.average(scores1),np.average(scores2)])\n",
    "print(\"Ortalama KFold doğruluk oranı:\", average_test_accuracy)"
   ]
  },
  {
   "cell_type": "code",
   "execution_count": 18,
   "id": "8dac20d6",
   "metadata": {},
   "outputs": [],
   "source": [
    "y_predicted = svc_model1.predict(X_test) #test verileri için tahmin edilen değerleri değişkene atama işlemi"
   ]
  },
  {
   "cell_type": "code",
   "execution_count": 19,
   "id": "8ed67fd7",
   "metadata": {},
   "outputs": [
    {
     "data": {
      "text/plain": [
       "array([[ 414,  271,    0],\n",
       "       [ 163, 1080,   69],\n",
       "       [   8,  196,  478]], dtype=int64)"
      ]
     },
     "execution_count": 19,
     "metadata": {},
     "output_type": "execute_result"
    }
   ],
   "source": [
    "from sklearn.metrics import confusion_matrix\n",
    "cm =confusion_matrix(y_test, y_predicted)  #tahmin ve gerçek değerleri içeren matris oluşturma\n",
    "cm"
   ]
  },
  {
   "cell_type": "code",
   "execution_count": 20,
   "id": "f3386321",
   "metadata": {},
   "outputs": [],
   "source": [
    "import seaborn as sn              #görsel olarak yazdırmak için gerekli kütüphane\n",
    "import matplotlib.pyplot as plt "
   ]
  },
  {
   "cell_type": "code",
   "execution_count": 21,
   "id": "1fe2a16f",
   "metadata": {},
   "outputs": [
    {
     "data": {
      "text/plain": [
       "Text(95.72222222222221, 0.5, 'Gerçek Değer')"
      ]
     },
     "execution_count": 21,
     "metadata": {},
     "output_type": "execute_result"
    },
    {
     "data": {
      "image/png": "[encoded data removed]",
      "text/plain": [
       "<Figure size 1000x600 with 2 Axes>"
      ]
     },
     "metadata": {},
     "output_type": "display_data"
    }
   ],
   "source": [
    "# Matplotlib kütüphanesini kullanarak bir 10x6 büyüklüğünde bir ısı haritası (heatmap) figürü oluşturuyoruz.\n",
    "plt.figure(figsize=(10, 6))\n",
    "\n",
    "# Seaborn kütüphanesini kullanarak bir ısı haritası oluşturuyoruz. 'cm' matrisini kullanıyoruz ve sayısal değerleri ekrana yazdırıyoruz.\n",
    "sn.heatmap(cm, annot=True, fmt=\"d\")\n",
    "\n",
    "# x ekseni etiketi \"tahmin\" olarak ayarlanıyor.\n",
    "plt.xlabel('Tahmin')\n",
    "\n",
    "# y ekseni etiketi \"gerçek değer\" olarak ayarlanıyor.\n",
    "plt.ylabel('Gerçek Değer')"
   ]
  },
  {
   "cell_type": "code",
   "execution_count": 22,
   "id": "eaf5326e",
   "metadata": {},
   "outputs": [
    {
     "name": "stdout",
     "output_type": "stream",
     "text": [
      "              precision    recall  f1-score   support\n",
      "\n",
      "           0       0.71      0.60      0.65       685\n",
      "           1       0.70      0.82      0.76      1312\n",
      "           2       0.87      0.70      0.78       682\n",
      "\n",
      "    accuracy                           0.74      2679\n",
      "   macro avg       0.76      0.71      0.73      2679\n",
      "weighted avg       0.75      0.74      0.73      2679\n",
      "\n"
     ]
    }
   ],
   "source": [
    "from sklearn.metrics import classification_report\n",
    "print(classification_report(y_test, y_predicted))\n",
    "#Precision (Hassasiyet):Modelin pozitif olarak tahmin ettiği örneklerin ne kadarının gerçekten pozitif olduğunu gösterir.\n",
    "#Recall (Duyarlılık):Gerçek pozitif örneklerin model tarafından ne kadarının doğru bir şekilde tespit edildiğini gösterir.\n",
    "#F1-score:Hassasiyet ve duyarlılığın harmonik ortalamasını ifade eder.\n",
    "#Support:Her bir sınıf için gerçek etiketlenmiş örnek sayısını temsil eder. \n",
    "\n",
    "#Accuracy (Doğruluk):Modelin doğru tahmin ettiği toplam örnek sayısının, tüm örnek sayısına oranını gösterir.\n",
    "#Macro Avg (Makro Ortalama):Farklı sınıflar arasındaki metriklerin makro ortalamasını ifade eder. Her sınıfa eşit ağırlık verilir.\n",
    "#Weighted Avg (Ağırlıklı Ortalama):Farklı sınıflar arasındaki metriklerin ağırlıklı ortalamasını ifade eder. Sınıfın örnek sayısına göre ağırlıklandırılır"
   ]
  },
  {
   "cell_type": "code",
   "execution_count": 23,
   "id": "898032e8",
   "metadata": {},
   "outputs": [
    {
     "name": "stdout",
     "output_type": "stream",
     "text": [
      "Lojistik Regresyon Eğitim verisi doğruluk oranı: 0.7340862422997947\n",
      "Lojistik Regresyon KFold doğruluk oranı ortalaması: 0.7339657519372454\n"
     ]
    }
   ],
   "source": [
    "from sklearn.linear_model import LogisticRegression\n",
    "\n",
    "logistic_model1 = LogisticRegression(solver='liblinear',multi_class='ovr',max_iter=10000)\n",
    "logistic_model1.fit(X_train,y_train)\n",
    "\n",
    "l_scores = cross_val_score(logistic_model1,X,y,cv=5)\n",
    "\n",
    "print(\"Lojistik Regresyon Eğitim verisi doğruluk oranı:\",logistic_model1.score(X_train,y_train))\n",
    "print(\"Lojistik Regresyon KFold doğruluk oranı ortalaması:\",np.average(l_scores))"
   ]
  },
  {
   "cell_type": "code",
   "execution_count": 24,
   "id": "e25f7066",
   "metadata": {},
   "outputs": [
    {
     "name": "stdout",
     "output_type": "stream",
     "text": [
      "Lojistik Regresyon Eğitim verisi doğruluk oranı: 0.7400597349262646\n",
      "Lojistik Regresyon KFold doğruluk oranı: 0.740945738596736\n"
     ]
    }
   ],
   "source": [
    "logistic_model2 = LogisticRegression(solver='sag', multi_class='auto',max_iter=10000)\n",
    "logistic_model2.fit(X_train,y_train)\n",
    "\n",
    "#l_scores_train2 = cross_val_score(Logisitc_model2,X_train,y_train,cv=5)\n",
    "l_scores_2 = cross_val_score(logistic_model2,X_test,y_test,cv=5)\n",
    "\n",
    "print(\"Lojistik Regresyon Eğitim verisi doğruluk oranı:\",logistic_model2.score(X_train,y_train))\n",
    "print(\"Lojistik Regresyon KFold doğruluk oranı:\",np.average(l_scores_2))"
   ]
  },
  {
   "cell_type": "code",
   "execution_count": 25,
   "id": "5578a53e",
   "metadata": {},
   "outputs": [
    {
     "name": "stdout",
     "output_type": "stream",
     "text": [
      "Ortalama Eğitim verisi doğruluk oranı: 0.7370729886130296\n",
      "Ortalama KFold doğruluk oranı: 0.7374557452669908\n"
     ]
    }
   ],
   "source": [
    "average_train_accuracy = np.mean([logistic_model1.score(X_train,y_train),logistic_model2.score(X_train,y_train)])\n",
    "print(\"Ortalama Eğitim verisi doğruluk oranı:\", average_train_accuracy)\n",
    "\n",
    "average_test_accuracy = np.mean([np.average(l_scores),np.average(l_scores_2)])\n",
    "print(\"Ortalama KFold doğruluk oranı:\", average_test_accuracy)"
   ]
  },
  {
   "cell_type": "code",
   "execution_count": 26,
   "id": "2d624c63",
   "metadata": {},
   "outputs": [
    {
     "data": {
      "text/plain": [
       "Text(95.72222222222221, 0.5, 'gerçek değer')"
      ]
     },
     "execution_count": 26,
     "metadata": {},
     "output_type": "execute_result"
    },
    {
     "data": {
      "image/png": "[encoded data removed]",
      "text/plain": [
       "<Figure size 1000x600 with 2 Axes>"
      ]
     },
     "metadata": {},
     "output_type": "display_data"
    }
   ],
   "source": [
    "y_predicted = logistic_model2.predict(X_test)\n",
    "cm =confusion_matrix(y_test, y_predicted)\n",
    "cm\n",
    "plt.figure(figsize=(10,6))\n",
    "sn.heatmap(cm,annot=True,fmt=\"d\")\n",
    "plt.xlabel('tahmin')\n",
    "plt.ylabel('gerçek değer')"
   ]
  },
  {
   "cell_type": "code",
   "execution_count": 27,
   "id": "b9246bd2",
   "metadata": {},
   "outputs": [
    {
     "name": "stdout",
     "output_type": "stream",
     "text": [
      "              precision    recall  f1-score   support\n",
      "\n",
      "           0       0.74      0.62      0.67       685\n",
      "           1       0.71      0.82      0.76      1312\n",
      "           2       0.83      0.73      0.78       682\n",
      "\n",
      "    accuracy                           0.74      2679\n",
      "   macro avg       0.76      0.72      0.74      2679\n",
      "weighted avg       0.75      0.74      0.74      2679\n",
      "\n"
     ]
    }
   ],
   "source": [
    "from sklearn.metrics import classification_report\n",
    "print(classification_report(y_test, y_predicted))"
   ]
  },
  {
   "cell_type": "code",
   "execution_count": 28,
   "id": "c0451ccf",
   "metadata": {},
   "outputs": [
    {
     "name": "stdout",
     "output_type": "stream",
     "text": [
      "Random Forest Eğitim verisi doğruluk oranı: 0.9025574015307075\n",
      "Random Forest KFold doğruluk oranı: 0.8101253045218515\n"
     ]
    }
   ],
   "source": [
    "from sklearn.ensemble import RandomForestClassifier   # sınıflandırma için kütüphane ekleme\n",
    "\n",
    "forest_model1 = RandomForestClassifier(n_estimators=120,max_depth=12,min_samples_split=4,min_samples_leaf=3)\n",
    "forest_model1.fit(X_train,y_train)\n",
    "\n",
    "\n",
    "f_scores_test = cross_val_score(forest_model1,X,y,cv=5)\n",
    "\n",
    "print(\"Random Forest Eğitim verisi doğruluk oranı:\",forest_model1.score(X_train,y_train))\n",
    "print(\"Random Forest KFold doğruluk oranı:\",np.average(f_scores_test))"
   ]
  },
  {
   "cell_type": "code",
   "execution_count": 29,
   "id": "5ae246e4",
   "metadata": {},
   "outputs": [
    {
     "name": "stdout",
     "output_type": "stream",
     "text": [
      "Random Forest Eğitim verisi doğruluk oranı: 0.9982266193765167\n",
      "Random Forest KFold doğruluk oranı: 0.8171433780453231\n"
     ]
    }
   ],
   "source": [
    "forest_model2 = RandomForestClassifier(n_estimators=50,min_samples_split=2,max_depth=20)\n",
    "forest_model2.fit(X_train,y_train)\n",
    "\n",
    "f_scores_test2 = cross_val_score(forest_model2,X,y,cv=5)\n",
    "\n",
    "print(\"Random Forest Eğitim verisi doğruluk oranı:\",forest_model2.score(X_train,y_train))\n",
    "print(\"Random Forest KFold doğruluk oranı:\",np.average(f_scores_test2))"
   ]
  },
  {
   "cell_type": "code",
   "execution_count": 30,
   "id": "e7bd5be0",
   "metadata": {},
   "outputs": [
    {
     "name": "stdout",
     "output_type": "stream",
     "text": [
      "Ortalama Eğitim verisi doğruluk oranı: 0.9503920104536121\n",
      "Ortalama KFold doğruluk oranı: 0.8136343412835874\n"
     ]
    }
   ],
   "source": [
    "average_train_accuracy = np.mean([forest_model1.score(X_train,y_train),forest_model2.score(X_train,y_train)])\n",
    "print(\"Ortalama Eğitim verisi doğruluk oranı:\", average_train_accuracy)\n",
    "\n",
    "average_test_accuracy = np.mean([np.average(f_scores_test),np.average(f_scores_test2)])\n",
    "print(\"Ortalama KFold doğruluk oranı:\", average_test_accuracy)"
   ]
  },
  {
   "cell_type": "code",
   "execution_count": 31,
   "id": "ae02d014",
   "metadata": {},
   "outputs": [
    {
     "name": "stdout",
     "output_type": "stream",
     "text": [
      "Random Forest Eğitim verisi doğruluk oranı: 0.8104349449318649\n",
      "Random Forest KFold doğruluk oranı: 0.8176665743936533\n"
     ]
    }
   ],
   "source": [
    "forest_model3 = RandomForestClassifier(n_estimators=40,max_depth=8)\n",
    "forest_model3.fit(X_train,y_train)\n",
    "\n",
    "f_scores_test3 = cross_val_score(forest_model2,X,y,cv=5)\n",
    "\n",
    "print(\"Random Forest Eğitim verisi doğruluk oranı:\",forest_model3.score(X_train,y_train))\n",
    "print(\"Random Forest KFold doğruluk oranı:\",np.average(f_scores_test3))"
   ]
  },
  {
   "cell_type": "code",
   "execution_count": 32,
   "id": "0dba5ace",
   "metadata": {},
   "outputs": [
    {
     "data": {
      "text/plain": [
       "Text(95.72222222222221, 0.5, 'gerçek değer')"
      ]
     },
     "execution_count": 32,
     "metadata": {},
     "output_type": "execute_result"
    },
    {
     "data": {
      "image/png": "[encoded data removed]",
      "text/plain": [
       "<Figure size 1000x600 with 2 Axes>"
      ]
     },
     "metadata": {},
     "output_type": "display_data"
    }
   ],
   "source": [
    "y_predicted = forest_model3.predict(X_test)\n",
    "cm =confusion_matrix(y_test, y_predicted)\n",
    "cm\n",
    "plt.figure(figsize=(10,6))\n",
    "sn.heatmap(cm,annot=True,fmt=\"d\")\n",
    "plt.xlabel('tahmin')\n",
    "plt.ylabel('gerçek değer')"
   ]
  },
  {
   "cell_type": "code",
   "execution_count": 33,
   "id": "ea8947c1",
   "metadata": {},
   "outputs": [
    {
     "name": "stdout",
     "output_type": "stream",
     "text": [
      "              precision    recall  f1-score   support\n",
      "\n",
      "           0       0.79      0.65      0.71       685\n",
      "           1       0.73      0.89      0.80      1312\n",
      "           2       0.94      0.71      0.81       682\n",
      "\n",
      "    accuracy                           0.78      2679\n",
      "   macro avg       0.82      0.75      0.77      2679\n",
      "weighted avg       0.80      0.78      0.78      2679\n",
      "\n"
     ]
    }
   ],
   "source": [
    "from sklearn.metrics import classification_report\n",
    "print(classification_report(y_test, y_predicted))"
   ]
  },
  {
   "cell_type": "code",
   "execution_count": null,
   "id": "24a207af",
   "metadata": {},
   "outputs": [],
   "source": []
  }
 ],
 "metadata": {
  "kernelspec": {
   "display_name": "Python 3 (ipykernel)",
   "language": "python",
   "name": "python3"
  },
  "language_info": {
   "codemirror_mode": {
    "name": "ipython",
    "version": 3
   },
   "file_extension": ".py",
   "mimetype": "text/x-python",
   "name": "python",
   "nbconvert_exporter": "python",
   "pygments_lexer": "ipython3",
   "version": "3.11.5"
  }
 },
 "nbformat": 4,
 "nbformat_minor": 5
}
