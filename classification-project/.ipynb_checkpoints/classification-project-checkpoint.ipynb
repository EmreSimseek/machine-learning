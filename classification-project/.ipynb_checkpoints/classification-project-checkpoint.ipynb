{
 "cells": [
  {
   "cell_type": "code",
   "execution_count": null,
   "id": "6a1bf24c",
   "metadata": {},
   "outputs": [],
   "source": [
    "import pandas as pd\n",
    "from matplotlib import pyplot as plt\n",
    "%matplotlib inline\n",
    "import numpy as np\n",
    "#gerekli kütüphaneler"
   ]
  },
  {
   "cell_type": "code",
   "execution_count": null,
   "id": "7df1c6a7",
   "metadata": {},
   "outputs": [],
   "source": [
    "#CSV dosyasını okuyarak bir DataFrame oluşturuluyor.\n",
    "df = pd.read_csv(\"bodyPerformance.csv\")  "
   ]
  },
  {
   "cell_type": "code",
   "execution_count": null,
   "id": "c26a7fa7",
   "metadata": {},
   "outputs": [],
   "source": [
    "df.isnull().sum() #Eksik değer kontrolü"
   ]
  },
  {
   "cell_type": "code",
   "execution_count": null,
   "id": "9e4e1bc5",
   "metadata": {},
   "outputs": [],
   "source": [
    "df.info()  #DataFrame bilgileri"
   ]
  },
  {
   "cell_type": "code",
   "execution_count": null,
   "id": "387090ce",
   "metadata": {},
   "outputs": [],
   "source": [
    "from sklearn.preprocessing import LabelEncoder\n",
    "gender_encoder = LabelEncoder()\n",
    "class_encoder = LabelEncoder() \n",
    "#LabelEncoder nesnesi oluşturuluyor.\n",
    "#numerik olmayan değerler için encoding yapılacak"
   ]
  },
  {
   "cell_type": "code",
   "execution_count": null,
   "id": "d3bc855f",
   "metadata": {},
   "outputs": [],
   "source": [
    "df['gender'] = gender_encoder.fit_transform(df['gender']) # Female için 0 Male için 1 değeri \n",
    "\n",
    "# Burada sınıf birleştirme işlemi yapılmıştır daha iyi performans için B ve C sınıfı orta kategori olarak düşünülerek birleştirilmiştir\n",
    "df['class_x'] = [0 if each == 'A' else 1 if each in ['B', 'C'] else 2 for each in df['class']]\n",
    "# İşlem sonunda 4 farklı kategori 3 kategoriye indirgenmiştir bu işlem modelin performansını belirli ölçüde artırmıştır\n",
    "df.head() "
   ]
  },
  {
   "cell_type": "code",
   "execution_count": null,
   "id": "cf25e5ae",
   "metadata": {},
   "outputs": [],
   "source": [
    "X = df.drop([\"class_x\",\"class\"],axis=1) \n",
    "y = df.class_x  #df.class yazımı \"invalid syntax\" hatası verdiği için class yerine class_x ifadesi kullanıldı"
   ]
  },
  {
   "cell_type": "code",
   "execution_count": null,
   "id": "867ec426",
   "metadata": {},
   "outputs": [],
   "source": [
    "X.head() #girdiler"
   ]
  },
  {
   "cell_type": "code",
   "execution_count": null,
   "id": "4dfc84db",
   "metadata": {},
   "outputs": [],
   "source": [
    "y.head() #çıktılar"
   ]
  },
  {
   "cell_type": "code",
   "execution_count": null,
   "id": "dab75419",
   "metadata": {},
   "outputs": [],
   "source": [
    "from sklearn.model_selection import train_test_split #test ve eğitim verisini ayırabilmek için gerekli kütüphane"
   ]
  },
  {
   "cell_type": "code",
   "execution_count": null,
   "id": "8f518b3a",
   "metadata": {},
   "outputs": [],
   "source": [
    "X_train, X_test, y_train, y_test = train_test_split(X , y , train_size=0.8, random_state=42) #test ve eğitim verisi oluşturma\n",
    "#aynı sonuçları üretmek için random_state parametresi eklendi"
   ]
  },
  {
   "cell_type": "code",
   "execution_count": null,
   "id": "7d878cc4",
   "metadata": {},
   "outputs": [],
   "source": [
    "from sklearn.model_selection import KFold\n",
    "kf = KFold(n_splits=5)  # veri setini kaç farklı şekilde ayıracağımızı belirledik\n",
    "kf"
   ]
  },
  {
   "cell_type": "code",
   "execution_count": null,
   "id": "3aa4a64e",
   "metadata": {},
   "outputs": [],
   "source": [
    "for train_index, test_index in kf.split([1,2,3,4,5,6,7,8,9]):\n",
    "    print(train_index, test_index)    #soldaki küme eğitim verisini içerir sağ taraf ise test verisini içerir"
   ]
  },
  {
   "cell_type": "code",
   "execution_count": null,
   "id": "4c6d94d2",
   "metadata": {},
   "outputs": [],
   "source": [
    "from sklearn.model_selection import cross_val_score"
   ]
  },
  {
   "cell_type": "code",
   "execution_count": null,
   "id": "5caee682",
   "metadata": {
    "scrolled": true
   },
   "outputs": [],
   "source": [
    "from sklearn.svm import SVC\n",
    "\n",
    "# SVC modelini oluştur\n",
    "svc_model1 = SVC(C=1, kernel='poly', degree=3)  #hiper parametre deneme yanılma ile seçildi\n",
    "# SVC modelini eğitim verisi üzerinde eğit \n",
    "svc_model1.fit(X_train, y_train)         \n",
    "\n",
    "# 5 kat çapraz doğrulama (cross-validation) ile doğruluk oranlarını hesapla\n",
    "scores1 = cross_val_score(svc_model1, X, y, cv=5)\n",
    "\n",
    "print(\"SVC Eğitim verisi doğruluk oranı:\", svc_model1.score(X_train, y_train))\n",
    "print(\"SVC KFold doğruluk oranı:\", np.average(scores1))"
   ]
  },
  {
   "cell_type": "code",
   "execution_count": null,
   "id": "c96c1349",
   "metadata": {},
   "outputs": [],
   "source": [
    "svc_model2 = SVC(C=0.1, kernel='linear', degree=4)\n",
    "svc_model2.fit(X_train,y_train)\n",
    "\n",
    "scores2 = cross_val_score(svc_model2,X,y,cv=5)\n",
    "\n",
    "print(\"SVC Eğitim verisi doğruluk oranı:\",svc_model2.score(X_train,y_train))\n",
    "print(\"SVC KFold doğruluk oranı:\",np.average(scores2))"
   ]
  },
  {
   "cell_type": "code",
   "execution_count": null,
   "id": "f44b1bfc",
   "metadata": {},
   "outputs": [],
   "source": [
    "average_train_accuracy = np.mean([svc_model1.score(X_train, y_train), svc_model2.score(X_train, y_train)])\n",
    "print(\"Ortalama Eğitim verisi doğruluk oranı:\", average_train_accuracy)\n",
    "\n",
    "average_test_accuracy = np.mean([np.average(scores1),np.average(scores2)])\n",
    "print(\"Ortalama KFold doğruluk oranı:\", average_test_accuracy)"
   ]
  },
  {
   "cell_type": "code",
   "execution_count": null,
   "id": "8dac20d6",
   "metadata": {},
   "outputs": [],
   "source": [
    "y_predicted = svc_model1.predict(X_test) #test verileri için tahmin edilen değerleri değişkene atama işlemi"
   ]
  },
  {
   "cell_type": "code",
   "execution_count": null,
   "id": "8ed67fd7",
   "metadata": {},
   "outputs": [],
   "source": [
    "from sklearn.metrics import confusion_matrix\n",
    "cm =confusion_matrix(y_test, y_predicted)  #tahmin ve gerçek değerleri içeren matris oluşturma\n",
    "cm"
   ]
  },
  {
   "cell_type": "code",
   "execution_count": null,
   "id": "f3386321",
   "metadata": {},
   "outputs": [],
   "source": [
    "import seaborn as sn              #görsel olarak yazdırmak için gerekli kütüphane\n",
    "import matplotlib.pyplot as plt "
   ]
  },
  {
   "cell_type": "code",
   "execution_count": null,
   "id": "1fe2a16f",
   "metadata": {},
   "outputs": [],
   "source": [
    "# Matplotlib kütüphanesini kullanarak bir 10x6 büyüklüğünde bir ısı haritası (heatmap) figürü oluşturuyoruz.\n",
    "plt.figure(figsize=(10, 6))\n",
    "\n",
    "# Seaborn kütüphanesini kullanarak bir ısı haritası oluşturuyoruz. 'cm' matrisini kullanıyoruz ve sayısal değerleri ekrana yazdırıyoruz.\n",
    "sn.heatmap(cm, annot=True, fmt=\"d\")\n",
    "\n",
    "# x ekseni etiketi \"tahmin\" olarak ayarlanıyor.\n",
    "plt.xlabel('Tahmin')\n",
    "\n",
    "# y ekseni etiketi \"gerçek değer\" olarak ayarlanıyor.\n",
    "plt.ylabel('Gerçek Değer')"
   ]
  },
  {
   "cell_type": "code",
   "execution_count": null,
   "id": "eaf5326e",
   "metadata": {},
   "outputs": [],
   "source": [
    "from sklearn.metrics import classification_report\n",
    "print(classification_report(y_test, y_predicted))\n",
    "#Precision (Hassasiyet):Modelin pozitif olarak tahmin ettiği örneklerin ne kadarının gerçekten pozitif olduğunu gösterir.\n",
    "#Recall (Duyarlılık):Gerçek pozitif örneklerin model tarafından ne kadarının doğru bir şekilde tespit edildiğini gösterir.\n",
    "#F1-score:Hassasiyet ve duyarlılığın harmonik ortalamasını ifade eder.\n",
    "#Support:Her bir sınıf için gerçek etiketlenmiş örnek sayısını temsil eder. \n",
    "\n",
    "#Accuracy (Doğruluk):Modelin doğru tahmin ettiği toplam örnek sayısının, tüm örnek sayısına oranını gösterir.\n",
    "#Macro Avg (Makro Ortalama):Farklı sınıflar arasındaki metriklerin makro ortalamasını ifade eder. Her sınıfa eşit ağırlık verilir.\n",
    "#Weighted Avg (Ağırlıklı Ortalama):Farklı sınıflar arasındaki metriklerin ağırlıklı ortalamasını ifade eder. Sınıfın örnek sayısına göre ağırlıklandırılır"
   ]
  },
  {
   "cell_type": "code",
   "execution_count": null,
   "id": "898032e8",
   "metadata": {},
   "outputs": [],
   "source": [
    "from sklearn.linear_model import LogisticRegression\n",
    "\n",
    "logistic_model1 = LogisticRegression(solver='liblinear',multi_class='ovr',max_iter=10000)\n",
    "logistic_model1.fit(X_train,y_train)\n",
    "\n",
    "l_scores = cross_val_score(logistic_model1,X,y,cv=5)\n",
    "\n",
    "print(\"Lojistik Regresyon Eğitim verisi doğruluk oranı:\",logistic_model1.score(X_train,y_train))\n",
    "print(\"Lojistik Regresyon KFold doğruluk oranı ortalaması:\",np.average(l_scores))"
   ]
  },
  {
   "cell_type": "code",
   "execution_count": null,
   "id": "e25f7066",
   "metadata": {},
   "outputs": [],
   "source": [
    "logistic_model2 = LogisticRegression(solver='sag', multi_class='auto',max_iter=10000)\n",
    "logistic_model2.fit(X_train,y_train)\n",
    "\n",
    "#l_scores_train2 = cross_val_score(Logisitc_model2,X_train,y_train,cv=5)\n",
    "l_scores_2 = cross_val_score(logistic_model2,X_test,y_test,cv=5)\n",
    "\n",
    "print(\"Lojistik Regresyon Eğitim verisi doğruluk oranı:\",logistic_model2.score(X_train,y_train))\n",
    "print(\"Lojistik Regresyon KFold doğruluk oranı:\",np.average(l_scores_2))"
   ]
  },
  {
   "cell_type": "code",
   "execution_count": null,
   "id": "5578a53e",
   "metadata": {},
   "outputs": [],
   "source": [
    "average_train_accuracy = np.mean([logistic_model1.score(X_train,y_train),logistic_model2.score(X_train,y_train)])\n",
    "print(\"Ortalama Eğitim verisi doğruluk oranı:\", average_train_accuracy)\n",
    "\n",
    "average_test_accuracy = np.mean([np.average(l_scores),np.average(l_scores_2)])\n",
    "print(\"Ortalama KFold doğruluk oranı:\", average_test_accuracy)"
   ]
  },
  {
   "cell_type": "code",
   "execution_count": null,
   "id": "2d624c63",
   "metadata": {},
   "outputs": [],
   "source": [
    "y_predicted = logistic_model2.predict(X_test)\n",
    "cm =confusion_matrix(y_test, y_predicted)\n",
    "cm\n",
    "plt.figure(figsize=(10,6))\n",
    "sn.heatmap(cm,annot=True,fmt=\"d\")\n",
    "plt.xlabel('tahmin')\n",
    "plt.ylabel('gerçek değer')"
   ]
  },
  {
   "cell_type": "code",
   "execution_count": null,
   "id": "b9246bd2",
   "metadata": {},
   "outputs": [],
   "source": [
    "from sklearn.metrics import classification_report\n",
    "print(classification_report(y_test, y_predicted))"
   ]
  },
  {
   "cell_type": "code",
   "execution_count": null,
   "id": "c0451ccf",
   "metadata": {},
   "outputs": [],
   "source": [
    "from sklearn.ensemble import RandomForestClassifier   # sınıflandırma için kütüphane ekleme\n",
    "\n",
    "forest_model1 = RandomForestClassifier(n_estimators=120,max_depth=12,min_samples_split=4,min_samples_leaf=3)\n",
    "forest_model1.fit(X_train,y_train)\n",
    "\n",
    "f_scores_test = cross_val_score(forest_model1,X,y,cv=5)\n",
    "\n",
    "print(\"Random Forest Eğitim verisi doğruluk oranı:\",forest_model1.score(X_train,y_train))\n",
    "print(\"Random Forest KFold doğruluk oranı:\",np.average(f_scores_test))"
   ]
  },
  {
   "cell_type": "code",
   "execution_count": null,
   "id": "5ae246e4",
   "metadata": {},
   "outputs": [],
   "source": [
    "forest_model2 = RandomForestClassifier(n_estimators=50,min_samples_split=2,max_depth=20)\n",
    "forest_model2.fit(X_train,y_train)\n",
    "\n",
    "f_scores_test2 = cross_val_score(forest_model2,X,y,cv=5)\n",
    "\n",
    "print(\"Random Forest Eğitim verisi doğruluk oranı:\",forest_model2.score(X_train,y_train))\n",
    "print(\"Random Forest KFold doğruluk oranı:\",np.average(f_scores_test2))"
   ]
  },
  {
   "cell_type": "code",
   "execution_count": null,
   "id": "e7bd5be0",
   "metadata": {},
   "outputs": [],
   "source": [
    "average_train_accuracy = np.mean([forest_model1.score(X_train,y_train),forest_model2.score(X_train,y_train)])\n",
    "print(\"Ortalama Eğitim verisi doğruluk oranı:\", average_train_accuracy)\n",
    "\n",
    "average_test_accuracy = np.mean([np.average(f_scores_test),np.average(f_scores_test2)])\n",
    "print(\"Ortalama KFold doğruluk oranı:\", average_test_accuracy)"
   ]
  },
  {
   "cell_type": "code",
   "execution_count": null,
   "id": "ae02d014",
   "metadata": {},
   "outputs": [],
   "source": [
    "forest_model3 = RandomForestClassifier(n_estimators=40,max_depth=8)\n",
    "forest_model3.fit(X_train,y_train)\n",
    "\n",
    "f_scores_test3 = cross_val_score(forest_model2,X,y,cv=5)\n",
    "\n",
    "print(\"Random Forest Eğitim verisi doğruluk oranı:\",forest_model3.score(X_train,y_train))\n",
    "print(\"Random Forest KFold doğruluk oranı:\",np.average(f_scores_test3))"
   ]
  },
  {
   "cell_type": "code",
   "execution_count": null,
   "id": "0dba5ace",
   "metadata": {},
   "outputs": [],
   "source": [
    "y_predicted = forest_model3.predict(X_test)\n",
    "cm =confusion_matrix(y_test, y_predicted)\n",
    "cm\n",
    "plt.figure(figsize=(10,6))\n",
    "sn.heatmap(cm,annot=True,fmt=\"d\")\n",
    "plt.xlabel('tahmin')\n",
    "plt.ylabel('gerçek değer')"
   ]
  },
  {
   "cell_type": "code",
   "execution_count": null,
   "id": "ea8947c1",
   "metadata": {},
   "outputs": [],
   "source": [
    "from sklearn.metrics import classification_report\n",
    "print(classification_report(y_test, y_predicted))"
   ]
  }
 ],
 "metadata": {
  "kernelspec": {
   "display_name": "Python 3 (ipykernel)",
   "language": "python",
   "name": "python3"
  },
  "language_info": {
   "codemirror_mode": {
    "name": "ipython",
    "version": 3
   },
   "file_extension": ".py",
   "mimetype": "text/x-python",
   "name": "python",
   "nbconvert_exporter": "python",
   "pygments_lexer": "ipython3",
   "version": "3.12.4"
  }
 },
 "nbformat": 4,
 "nbformat_minor": 5
}
